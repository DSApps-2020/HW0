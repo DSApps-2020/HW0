{
 "cells": [
  {
   "cell_type": "markdown",
   "metadata": {},
   "source": [
    "# DS Apps 2020 @ TAU: HW0\n",
    "## Getting ready with Python\n",
    "\n",
    "### Giora Simchoni\n",
    "### 2020-02-25\n",
    "\n"
   ]
  },
  {
   "cell_type": "markdown",
   "metadata": {},
   "source": [
    "### Welcome\n",
    "\n",
    "Welcome to Homework 0 in Python!\n",
    "\n",
    "Good news: you don’t have to do anything.\n",
    "\n",
    "I just want you to run this Jupyter notebook at your leisure in Jupyter, using Binder cloud, Docker or your local installation, and see that everything is working. Though feel free to tweak things and show me interesting stuff if you find any."
   ]
  },
  {
   "cell_type": "markdown",
   "metadata": {},
   "source": [
    "### Jupyter notebook\n",
    "\n",
    "This is an Jupyter notebook. When you execute code within the notebook, the results appear beneath the code.\n",
    "\n",
    "Try executing this chunk by clicking the Run button at the top of the notebook or by placing your cursor inside it and pressing Ctrl+Enter."
   ]
  },
  {
   "cell_type": "code",
   "execution_count": null,
   "metadata": {},
   "outputs": [],
   "source": [
    "print('One and one is', 1 + 1)"
   ]
  },
  {
   "cell_type": "markdown",
   "metadata": {},
   "source": [
    "Add a new chunk by clicking the \"+\" button on the toolbar or by pressing B (for \"below\") or A (for \"above\"). Delete a chunk with double D.\n",
    "\n",
    "If you like to make a chunk a \"Markdown\" chunk, holding only formatted text, either change its type in the drop-down menu above to \"Markdown\" or if the cursor is inside the chunk, press Esc, then M."
   ]
  },
  {
   "cell_type": "markdown",
   "metadata": {},
   "source": [
    "Binder Test..."
   ]
  }
 ],
 "metadata": {
  "kernelspec": {
   "display_name": "Python 3",
   "language": "python",
   "name": "python3"
  },
  "language_info": {
   "codemirror_mode": {
    "name": "ipython",
    "version": 3
   },
   "file_extension": ".py",
   "mimetype": "text/x-python",
   "name": "python",
   "nbconvert_exporter": "python",
   "pygments_lexer": "ipython3",
   "version": "3.7.6"
  }
 },
 "nbformat": 4,
 "nbformat_minor": 4
}
